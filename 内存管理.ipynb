{
 "cells": [
  {
   "cell_type": "markdown",
   "metadata": {},
   "source": [
    "## 内存管理\n",
    "\n",
    "### 栈内存管理\n",
    "\n",
    "栈内存用于存储局部变量和函数参数。当函数被调用时，其参数和局部变量被“压入”栈中，当函数返回时，这些变量会被自动“弹出”栈并销毁。\n",
    "\n",
    "自动内存分配：函数内部声明的变量自动分配在栈上。\n",
    "\n",
    "优点：分配和释放速度快，无需手动管理。\n",
    "\n",
    "（ 缺点：空间有限，大小在编译时确定。）\n",
    "\n",
    "### 堆内存管理\n",
    "\n",
    "堆内存用于动态内存分配，程序员可以在程序运行时请求特定大小的内存，使用完后需要手动释放。\n",
    "\n",
    "#### malloc 与 free\n",
    "在C++中，可以使用C语言中的malloc和free进行动态内存分配和释放。\n",
    "\n",
    "malloc用于分配一定大小的内存，并返回指向该内存的指针。分配的内存未初始化。\n",
    "free用于释放malloc分配的内存。"
   ]
  },
  {
   "cell_type": "code",
   "execution_count": null,
   "metadata": {
    "vscode": {
     "languageId": "cpp"
    }
   },
   "outputs": [],
   "source": [
    "int* ptr = (int*)malloc(sizeof(int) * 10); // 分配10个整数的空间\n",
    "// 使用内存...\n",
    "free(ptr); // 释放内存"
   ]
  },
  {
   "cell_type": "markdown",
   "metadata": {},
   "source": [
    "#### new 与 delete\n",
    "\n",
    "C++引入了new和delete操作符，提供了更符合面向对象的方式来处理动态内存。\n",
    "\n",
    "new分配内存并调用构造函数（如果有的话），返回指向对象的指针。\n",
    "delete释放内存并调用析构函数（如果有的话）。"
   ]
  },
  {
   "cell_type": "code",
   "execution_count": null,
   "metadata": {
    "vscode": {
     "languageId": "cpp"
    }
   },
   "outputs": [],
   "source": [
    "int* ptr = new int[10]; // 分配10个整数的空间\n",
    "// 使用内存...\n",
    "delete[] ptr; // 释放内存"
   ]
  },
  {
   "cell_type": "code",
   "execution_count": null,
   "metadata": {
    "vscode": {
     "languageId": "cpp"
    }
   },
   "outputs": [],
   "source": [
    "#include <iostream>\n",
    "\n",
    "class MyClass {\n",
    "public:\n",
    "    MyClass() {\n",
    "        std::cout << \"Constructor called\" << std::endl;\n",
    "    }\n",
    "\n",
    "    ~MyClass() {\n",
    "        std::cout << \"Destructor called\" << std::endl;\n",
    "    }\n",
    "};\n",
    "\n",
    "int main() {\n",
    "    MyClass* myObject = new MyClass(); // 动态分配内存并构造对象\n",
    "    // 执行一些操作...\n",
    "    delete myObject; // 销毁对象并释放内存\n",
    "    return 0;\n",
    "}"
   ]
  },
  {
   "cell_type": "markdown",
   "metadata": {},
   "source": [
    "### 智能指针\n",
    "\n",
    "C++11引入了智能指针来简化内存管理。\n",
    "\n",
    "std::unique_ptr：保证同一时间只有一个指针指向对象，当unique_ptr离开作用域时，它指向的对象会被自动删除。\n",
    "std::shared_ptr：允许多个指针共享对同一个对象的所有权。当最后一个shared_ptr被销毁时，它指向的对象才会被删除。\n",
    "std::weak_ptr：与std::shared_ptr配合使用，但不拥有对象。用于解决shared_ptr可能产生的循环引用问题。\n",
    "使用智能指针可以大大减少内存泄漏的风险，是现代C++程序中推荐的内存管理方式。"
   ]
  },
  {
   "cell_type": "code",
   "execution_count": null,
   "metadata": {
    "vscode": {
     "languageId": "cpp"
    }
   },
   "outputs": [],
   "source": [
    "#include <iostream>\n",
    "#include <memory>\n",
    "\n",
    "class MyClass {\n",
    "public:\n",
    "    MyClass() {\n",
    "        std::cout << \"Constructor called\" << std::endl;\n",
    "    }\n",
    "\n",
    "    ~MyClass() {\n",
    "        std::cout << \"Destructor called\" << std::endl;\n",
    "    }\n",
    "};\n",
    "\n",
    "int main() {\n",
    "    std::unique_ptr<MyClass> myUniquePtr(new MyClass()); // 使用 unique_ptr 管理 MyClass 对象\n",
    "    // 执行一些操作...\n",
    "    // 当 unique_ptr 离开作用域时，MyClass 的实例会被自动销毁\n",
    "    return 0;\n",
    "}"
   ]
  },
  {
   "cell_type": "markdown",
   "metadata": {},
   "source": [
    "std::shared_ptr 的 use_count() 方法返回指向当前对象的 shared_ptr 实例的数量。当这个计数降到0时，对象会被自动销毁。"
   ]
  },
  {
   "cell_type": "code",
   "execution_count": null,
   "metadata": {
    "vscode": {
     "languageId": "cpp"
    }
   },
   "outputs": [],
   "source": [
    "int main() {\n",
    "    std::shared_ptr<MyClass> mySharedPtr1(new MyClass());\n",
    "    std::shared_ptr<MyClass> mySharedPtr2 = mySharedPtr1;\n",
    "\n",
    "    std::cout << \"Shared pointers count: \" << mySharedPtr1.use_count() << std::endl;\n",
    "    mySharedPtr2.reset(); // 显式销毁 mySharedPtr2\n",
    "    std::cout << \"Shared pointers count after destroying mySharedPtr2: \" << mySharedPtr1.use_count() << std::endl;\n",
    "    mySharedPtr1.reset(); // 显式销毁 mySharedPtr1\n",
    "    // 此时 MyClass 实例会被销毁\n",
    "    return 0;\n",
    "}"
   ]
  },
  {
   "cell_type": "markdown",
   "metadata": {},
   "source": [
    "### std::weak_ptr 和循环引用问题\n",
    "\n",
    "std::weak_ptr 是一种特殊的智能指针，它不拥有对象的所有权，因此不会影响对象的引用计数。weak_ptr 主要用于解决 shared_ptr 可能导致的循环引用问题。\n",
    "\n",
    "循环引用通常发生在两个或多个 shared_ptr 实例互相持有对方的引用，导致它们的引用计数永远不会降到0，从而造成内存泄漏。"
   ]
  },
  {
   "cell_type": "code",
   "execution_count": null,
   "metadata": {
    "vscode": {
     "languageId": "cpp"
    }
   },
   "outputs": [],
   "source": [
    "//循环引用的例子\n",
    "class B; // 前向声明\n",
    "\n",
    "class A {\n",
    "public:\n",
    "    std::shared_ptr<B> b_ptr;\n",
    "    ~A() {\n",
    "        std::cout << \"A destroyed\" << std::endl;\n",
    "    }\n",
    "};\n",
    "\n",
    "class B {\n",
    "public:\n",
    "    std::shared_ptr<A> a_ptr;\n",
    "    ~B() {\n",
    "        std::cout << \"B destroyed\" << std::endl;\n",
    "    }\n",
    "};\n",
    "\n",
    "int main() {\n",
    "    auto a = std::make_shared<A>();\n",
    "    auto b = std::make_shared<B>();\n",
    "    a->b_ptr = b;\n",
    "    b->a_ptr = a;\n",
    "    // 循环引用，A 和 B 不会被销毁\n",
    "    return 0;\n",
    "}\n"
   ]
  },
  {
   "cell_type": "code",
   "execution_count": null,
   "metadata": {
    "vscode": {
     "languageId": "cpp"
    }
   },
   "outputs": [],
   "source": [
    "/*使用 std::weak_ptr 可以解决循环引用问题。在上述示例中，如果我们将其中一个类中的 shared_ptr 改为 weak_ptr，循环引用就会被打破：\n",
    "在这个修改后的示例中，A 类的 b_ptr 成员被改为 std::weak_ptr。这样，即使 a 和 b 互相引用，B 对象的引用计数也不会因为 A 对象的存在而永远大于0，从而可以被正确销毁。*/\n",
    "class B;\n",
    "\n",
    "class A {\n",
    "public:\n",
    "    std::weak_ptr<B> b_ptr; // 使用 weak_ptr\n",
    "    ~A() {\n",
    "        std::cout << \"A destroyed\" << std::endl;\n",
    "    }\n",
    "};\n",
    "\n",
    "// B 类定义保持不变...\n",
    "\n",
    "int main() {\n",
    "    auto a = std::make_shared<A>();\n",
    "    auto b = std::make_shared<B>();\n",
    "    a->b_ptr = b;\n",
    "    b->a_ptr = a;\n",
    "    // 不再有循环引用，A 和 B 可以被正确销毁\n",
    "    return 0;\n",
    "}\n"
   ]
  }
 ],
 "metadata": {
  "language_info": {
   "name": "python"
  }
 },
 "nbformat": 4,
 "nbformat_minor": 2
}
