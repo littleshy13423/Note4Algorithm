{
 "cells": [
  {
   "cell_type": "markdown",
   "metadata": {},
   "source": [
    "## 线程与进程\n",
    "\n",
    "进程是系统调度和分配的最小单元，线程是CPU调度和分配的最小单元。一个进程至少有一个线程。\n",
    "\n",
    "std::thread是C++11中引入的一个类，用于创建和管理线程。"
   ]
  },
  {
   "cell_type": "code",
   "execution_count": null,
   "metadata": {
    "vscode": {
     "languageId": "cpp"
    }
   },
   "outputs": [],
   "source": []
  }
 ],
 "metadata": {
  "language_info": {
   "name": "python"
  }
 },
 "nbformat": 4,
 "nbformat_minor": 2
}
