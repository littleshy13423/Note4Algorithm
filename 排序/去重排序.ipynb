{
 "cells": [
  {
   "cell_type": "markdown",
   "metadata": {},
   "source": [
    "排序（Sort）：首先，使用 std::sort 对向量进行排序。这是必要的步骤，因为 std::unique 只能在排序后的向量上正确地去除连续重复的元素。\n",
    "\n",
    "去重（Unique）：然后，使用 std::unique 函数移除连续重复的元素。std::unique 并不实际删除元素，而是重排元素并返回新的逻辑结尾。\n",
    "\n",
    "删除多余元素（Erase）：最后，使用向量的 erase 方法删除从新逻辑结尾到实际结尾之间的所有元素。\n",
    "\n",
    "代码如下：\n"
   ]
  },
  {
   "cell_type": "code",
   "execution_count": null,
   "metadata": {
    "vscode": {
     "languageId": "cpp"
    }
   },
   "outputs": [],
   "source": [
    "#include <algorithm>\n",
    "#include <vector>\n",
    "\n",
    "void removeDuplicates(std::vector<int>& vec) {\n",
    "    // Step 1: Sort the vector\n",
    "    std::sort(vec.begin(), vec.end());\n",
    "\n",
    "    // Step 2: Use std::unique to remove duplicates\n",
    "    auto&& newEnd = std::unique(vec.begin(), vec.end());\n",
    "\n",
    "    // Step 3: Erase the undefined \"end\" part\n",
    "    vec.erase(newEnd, vec.end());\n",
    "}"
   ]
  },
  {
   "cell_type": "markdown",
   "metadata": {},
   "source": [
    "### 例题 leetcode_128. Longest Consecutive Sequence\n",
    "\n",
    "Given an unsorted array of integers nums, return the length of the longest consecutive elements sequence.\n",
    "\n",
    "You must write an algorithm that runs in O(n) time.\n",
    "\n",
    " \n",
    "\n",
    "Example 1:\n",
    "\n",
    "Input: nums = [100,4,200,1,3,2]\n",
    "\n",
    "Output: 4\n",
    "\n",
    "Explanation: The longest consecutive elements sequence is [1, 2, 3, 4]. Therefore its length is 4.\n",
    "\n",
    "Example 2:\n",
    "\n",
    "Input: nums = [0,3,7,2,5,8,4,6,0,1]\n",
    "\n",
    "Output: 9"
   ]
  },
  {
   "cell_type": "code",
   "execution_count": null,
   "metadata": {
    "vscode": {
     "languageId": "cpp"
    }
   },
   "outputs": [],
   "source": [
    "class Solution {\n",
    "public:\n",
    "    int longestConsecutive(vector<int>& nums) {\n",
    "        int size = nums.size();\n",
    "        if(size<2){\n",
    "            return size;\n",
    "        }\n",
    "        sort(nums.begin(), nums.end());\n",
    "        auto newEnd = std::unique(nums.begin(), nums.end());\n",
    "        nums.erase(newEnd, nums.end());\n",
    "        int max = 1, count = 1;\n",
    "        //size已经确保大于等于2\n",
    "        for (int i = 1; i < size; i++) {\n",
    "            if (nums[i] == nums[i - 1] + 1) {\n",
    "                count++;\n",
    "            } \n",
    "            else {\n",
    "                max = max>count ? max : count;\n",
    "                count = 1;\n",
    "            }\n",
    "        }\n",
    "        max = max>count ? max : count;;//更新最后一个值\n",
    "        return max;\n",
    "    }\n",
    "};"
   ]
  }
 ],
 "metadata": {
  "language_info": {
   "name": "python"
  }
 },
 "nbformat": 4,
 "nbformat_minor": 2
}
