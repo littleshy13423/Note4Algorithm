{
 "cells": [
  {
   "cell_type": "markdown",
   "metadata": {},
   "source": [
    "## Dijkstra\n",
    "Dijkstra 算法是一种常见的寻找最短路径的算法\n",
    "\n",
    "### Dijkstra's Algorithm Method"
   ]
  },
  {
   "cell_type": "markdown",
   "metadata": {},
   "source": [
    "### step 1. Initialization\n",
    "\n",
    "我们需要先定义一下我们需要用到的数据。\n",
    "\n",
    "- N = set of nodes in the network\n",
    "\n",
    "- s = source node\n",
    "\n",
    "- T = set of nodes so far incorporated by the algorithm\n",
    "\n",
    "- w(i,j) = link cost from node i to node j\n",
    "\n",
    "    - w(i,i) = 0\n",
    "    \n",
    "    - w(i,j) = &infin;\n",
    "\n",
    "    - w(i,j) >= 0\n",
    "\n",
    "- L(n) = cost of least-cost path from node s to node n currently know\n",
    "\n",
    "Dijkstra 的核心思想就是一步步更新局部最优的 L(n) 最终达到全局最优。我们首先需要给这些元素赋一个初值。\n",
    "\n",
    "T = {s} 初始化 T 中只包含起点 s \n",
    "\n",
    "L(n) = w(s,n), for n &ne; s \n",
    "\n",
    "Initial path costs ot neighboring nodes are simply link costs"
   ]
  },
  {
   "cell_type": "markdown",
   "metadata": {},
   "source": [
    "### step 2. get next node\n",
    "\n",
    "- Find neighboring node x not in T with least-cost path from s\n",
    "\n",
    "- Incorporate node x into T\n",
    "\n",
    "- Also incorporate the edge that is incident on node x and a node in T that contributes ot the path"
   ]
  },
  {
   "cell_type": "markdown",
   "metadata": {},
   "source": [
    "### step 3. Update Least-Cost Paths\n",
    "\n",
    "L(n) = min[ L(n), L(x) + w(x,n) ] for all n &notin; T"
   ]
  },
  {
   "cell_type": "markdown",
   "metadata": {},
   "source": [
    "### step 4. Algorithm terminates when all nodes have been added to T"
   ]
  },
  {
   "cell_type": "markdown",
   "metadata": {},
   "source": [
    "## C++ 代码"
   ]
  },
  {
   "cell_type": "code",
   "execution_count": null,
   "metadata": {
    "vscode": {
     "languageId": "cpp"
    }
   },
   "outputs": [],
   "source": [
    "// 定义图的边\n",
    "struct Edge {\n",
    "    int to, weight;\n",
    "    Edge(int _to, int _weight) : to(_to), weight(_weight) {}\n",
    "};\n",
    "\n",
    "// 定义图，n 为 node 的数量\n",
    "vector<vector<Edge>> graph(n);"
   ]
  },
  {
   "cell_type": "code",
   "execution_count": null,
   "metadata": {
    "vscode": {
     "languageId": "cpp"
    }
   },
   "outputs": [],
   "source": [
    "// 已知有 m 条边，通过 (x,y,z) 输入，x 表示起点 y 表示终点，z 表示路程，我们可以构造出完整的 graph 了\n",
    "for (int i = 0; i < m; i++) {\n",
    "    int x, y, z;\n",
    "    cin >> x >> y >> z;\n",
    "    graph[x].push_back(Edge(y, z));\n",
    "}\n",
    "// 起点s\n",
    "int s;\n",
    "\n",
    "// 初始化 L(n) \n",
    "vector<int> shortestDistance2n(n, INF);\n",
    "shortestDistance2n[s] = 0;\n",
    "\n",
    "// 用一个哈希表来存储被记录过的 node 。\n",
    "unordered_set<int> visitedSet;\n",
    "\n",
    "// 使用 priority_queue 创建一个最小堆来维护最短距离节点，第一个值存储距离，第二个值存储节点名称，这样栈顶永远是最短距离的目的地\n",
    "priority_queue<pair<int, int>, vector<pair<int, int>>, greater<pair<int, int>>> pq;\n",
    "pq.push({0, s});\n",
    "\n",
    "while (!pq.empty()) {\n",
    "    int dist = pq.top().first;\n",
    "    int dest = pq.top().second;\n",
    "    pq.pop();\n",
    "\n",
    "    if (visitedSet.find(dest)!=visitedSet.end()) continue;\n",
    "\n",
    "    visitedSet.insert(dest);\n",
    "\n",
    "    for (const Edge& edge : graph[dest]) {\n",
    "        int v = edge.to;\n",
    "        int weight = edge.weight;\n",
    "\n",
    "        if (shortestDistance2n[dest] + weight < shortestDistance2n[v]) {\n",
    "            shortestDistance2n[v] = shortestDistance2n[dest] + weight;\n",
    "            pq.push({shortestDistance2n[v], v});\n",
    "        }\n",
    "    }\n",
    "}"
   ]
  }
 ],
 "metadata": {
  "language_info": {
   "name": "python"
  }
 },
 "nbformat": 4,
 "nbformat_minor": 2
}
