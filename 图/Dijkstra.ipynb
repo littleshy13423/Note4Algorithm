{
 "cells": [
  {
   "cell_type": "markdown",
   "metadata": {},
   "source": [
    "### Dijkstra\n",
    "Dijkstra 算法是一种常见的寻找最短路径的算法\n",
    "\n",
    "#### Dijkstra's Algorithm Method\n",
    "\n",
    "step 1. Initialization\n",
    "\n",
    "我们需要先定义一下我们需要用到的数据。\n",
    "\n",
    "- N = set of nodes in the network\n",
    "\n",
    "- s = source node\n",
    "\n",
    "- T = set of nodes so far. incorporated by the algorithm\n",
    "\n",
    "- w(i,j) = link cost from node i to node j\n",
    "\n",
    "    - w(i,i) = 0\n",
    "    \n",
    "    - w(i,j) = &infin;\n",
    "\n",
    "    - w(i,j) >= 0\n",
    "\n",
    "- L(n) = cost of least-cost path from node s to node n currently know\n",
    "\n",
    "Dijkstra 的核心思想就是一步步更新局部最优的 L(n) 最终达到全局最优。我们首先需要给这些元素赋一个初值。\n",
    "\n",
    "T = {s}\n",
    "\n",
    "L(n) = w(s,n) for n &ne; s \n",
    "\n",
    "\n",
    "\n"
   ]
  }
 ],
 "metadata": {
  "language_info": {
   "name": "python"
  }
 },
 "nbformat": 4,
 "nbformat_minor": 2
}
