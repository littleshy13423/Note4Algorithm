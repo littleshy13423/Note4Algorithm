{
 "cells": [
  {
   "cell_type": "markdown",
   "metadata": {},
   "source": [
    "## 模板\n",
    "\n",
    "C++中的模板（Template）是一种通用编程机制，允许编写的代码可用于多种不同数据类型。它可以应用于函数模板和类模板。\n",
    "\n",
    "一下以一个判断Vector是否相等的函数为例："
   ]
  },
  {
   "cell_type": "code",
   "execution_count": null,
   "metadata": {
    "vscode": {
     "languageId": "cpp"
    }
   },
   "outputs": [],
   "source": [
    "template<typename T>\n",
    "    bool areVectorsEqual(const std::vector<T>& vec1, const std::vector<T>& vec2) {\n",
    "        if (vec1.size() != vec2.size()) {\n",
    "            return false;\n",
    "        }\n",
    "        for (size_t i = 0; i < vec1.size(); ++i) {\n",
    "            if (vec1[i] != vec2[i]) {\n",
    "                return false;\n",
    "            }\n",
    "        }\n",
    "        return true;\n",
    "    }"
   ]
  },
  {
   "cell_type": "markdown",
   "metadata": {},
   "source": [
    "这里有一个问题，如果输入的Vector类型不同会怎么样。"
   ]
  }
 ],
 "metadata": {
  "language_info": {
   "name": "python"
  }
 },
 "nbformat": 4,
 "nbformat_minor": 2
}
