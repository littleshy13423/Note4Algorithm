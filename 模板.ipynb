{
 "cells": [
  {
   "cell_type": "markdown",
   "metadata": {},
   "source": [
    "## 模板\n",
    "\n",
    "C++中的模板（Template）是一种通用编程机制，允许编写的代码可用于多种不同数据类型。它可以应用于函数模板和类模板。\n",
    "\n",
    "一下以一个判断Vector是否相等的函数为例："
   ]
  },
  {
   "cell_type": "code",
   "execution_count": null,
   "metadata": {
    "vscode": {
     "languageId": "cpp"
    }
   },
   "outputs": [],
   "source": [
    "template<typename T>\n",
    "bool areVectorsEqual(const std::vector<T>& vec1, const std::vector<T>& vec2) {\n",
    "    if (vec1.size() != vec2.size()) {\n",
    "        return false;\n",
    "    }\n",
    "    for (size_t i = 0; i < vec1.size(); ++i) {\n",
    "        if (vec1[i] != vec2[i]) {\n",
    "            return false;\n",
    "        }\n",
    "    }\n",
    "    return true;\n",
    "}"
   ]
  },
  {
   "cell_type": "markdown",
   "metadata": {},
   "source": [
    "这里有一个问题，如果输入的Vector类型不同会怎么样。"
   ]
  },
  {
   "cell_type": "markdown",
   "metadata": {},
   "source": [
    "### 类型约束"
   ]
  },
  {
   "cell_type": "code",
   "execution_count": null,
   "metadata": {
    "vscode": {
     "languageId": "cpp"
    }
   },
   "outputs": [],
   "source": [
    "#include <type_traits>\n",
    "\n",
    "template <typename T>\n",
    "class NumericArray {\n",
    "    static_assert(std::is_arithmetic<T>::value, \"NumericArray requires an arithmetic type\");\n",
    "\n",
    "    public:\n",
    "    // ...\n",
    "};\n",
    "\n",
    "// 使用示例\n",
    "NumericArray<int> intArray;     // 正确\n",
    "NumericArray<std::string> strArray; // 编译错误，因为std::string不是算术类型"
   ]
  },
  {
   "cell_type": "markdown",
   "metadata": {},
   "source": [
    "使用static_assert和类型特征可以对模板参数施加约束。这有助于在编译时捕获错误，而不是在运行时。"
   ]
  }
 ],
 "metadata": {
  "language_info": {
   "name": "python"
  }
 },
 "nbformat": 4,
 "nbformat_minor": 2
}
