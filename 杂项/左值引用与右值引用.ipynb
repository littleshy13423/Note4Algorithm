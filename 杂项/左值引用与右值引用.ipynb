{
 "cells": [
  {
   "cell_type": "markdown",
   "metadata": {},
   "source": [
    "## 左值引用（Lvalue Reference）\n",
    "\n",
    "左值引用是C++中的传统引用，它可以被认为是一个对象的别名。左值引用可以绑定到可修改的左值上。\n",
    "\n",
    "定义：使用一个单一的 & 符号定义。例如：int& ref = var; 这里，ref 是变量 var 的左值引用。\n",
    "\n",
    "用途：用于引用内存中已经存在的对象。它可以用来修改被引用的对象。\n",
    "\n"
   ]
  },
  {
   "cell_type": "code",
   "execution_count": null,
   "metadata": {
    "vscode": {
     "languageId": "cpp"
    }
   },
   "outputs": [],
   "source": [
    "int a = 5;\n",
    "int& ref = a; // 左值引用\n",
    "ref = 10; // 修改a的值"
   ]
  },
  {
   "cell_type": "markdown",
   "metadata": {},
   "source": [
    "## 右值引用（Rvalue Reference）\n",
    "\n",
    "右值引用是C++11中引入的一种新型引用，专门用于绑定到即将被销毁的对象，通常是临时对象或字面量。\n",
    "\n",
    "定义：使用两个 & 符号定义。例如：int&& rref = 5; 这里，rref 是字面量 5 的右值引用。\n",
    "用途：主要用于实现移动语义（Move Semantics）和完善函数重载。它允许资源的所有权从一个对象转移到另一个对象，从而提高性能，特别是在涉及大型对象，如字符串、向量、或自定义数据结构时。\n"
   ]
  },
  {
   "cell_type": "code",
   "execution_count": null,
   "metadata": {
    "vscode": {
     "languageId": "cpp"
    }
   },
   "outputs": [],
   "source": [
    "#include <iostream>\n",
    "#include <vector>\n",
    "\n",
    "int main() {\n",
    "    std::vector<int> source = {1, 2, 3, 4, 5};\n",
    "\n",
    "    // 使用移动语义将 source 的内容移动到 target\n",
    "    std::vector<int> target = std::move(source);\n",
    "\n",
    "    // 此时 source 已经为空，因为数据的控制权已经转移到了 target\n",
    "    std::cout << \"Source vector size: \" << source.size() << std::endl; // 输出 0\n",
    "    std::cout << \"Target vector size: \" << target.size() << std::endl; // 输出 5\n",
    "\n",
    "    return 0;\n",
    "}"
   ]
  }
 ],
 "metadata": {
  "language_info": {
   "name": "python"
  }
 },
 "nbformat": 4,
 "nbformat_minor": 2
}
