{
 "cells": [
  {
   "cell_type": "markdown",
   "metadata": {},
   "source": [
    "# 多态\n",
    "## 静态多态（Static Polymorphism）与动态多态（Dynamic Polymorphism）\n",
    "### 静态多态（又被称为重载Overloading）\n",
    "\n",
    "定义：在编译时实现的多态。最常见的实现方式是通过函数重载和模板。\n",
    "\n",
    "特点：\n",
    "编译器在编译时决定使用哪个函数或模板。\n",
    "无需运行时类型信息（RTTI）。\n",
    "通常更高效，因为它消除了运行时的类型检查。\n",
    "\n",
    "示例："
   ]
  },
  {
   "cell_type": "code",
   "execution_count": null,
   "metadata": {
    "vscode": {
     "languageId": "cpp"
    }
   },
   "outputs": [],
   "source": [
    "class Print {\n",
    "public:\n",
    "    void show(int i) {\n",
    "        cout << \"Integer: \" << i << endl;\n",
    "    }\n",
    "    void show(string s) {\n",
    "        cout << \"String: \" << s << endl;\n",
    "    }\n",
    "};\n",
    "\n",
    "Print p;\n",
    "p.show(10);   // 调用 show(int)\n",
    "p.show(\"Hi\"); // 调用 show(string)\n",
    "\n",
    "//编译器根据传递给show函数的参数类型，在编译时决定调用哪个函数。"
   ]
  },
  {
   "cell_type": "markdown",
   "metadata": {},
   "source": [
    "### 动态多态（又被称为重写Overriding）\n",
    "定义：在运行时实现的多态。通常通过虚函数和继承实现。\n",
    "\n",
    "特点：\n",
    "编译器在运行时决定调用哪个函数。\n",
    "依赖于运行时类型信息（RTTI）。\n",
    "灵活但可能略低效，因为涉及运行时决策。\n",
    "\n",
    "示例："
   ]
  },
  {
   "cell_type": "code",
   "execution_count": null,
   "metadata": {
    "vscode": {
     "languageId": "cpp"
    }
   },
   "outputs": [],
   "source": [
    "class Animal {\n",
    "public:\n",
    "    virtual void makeSound() { cout << \"Some sound\"; }\n",
    "};\n",
    "\n",
    "class Dog : public Animal {\n",
    "public:\n",
    "    void makeSound() { cout << \"Woof\"; }\n",
    "};\n",
    "\n",
    "class Cat : public Animal {\n",
    "public:\n",
    "    void makeSound() { cout << \"Meow\"; }\n",
    "};\n",
    "\n",
    "Animal* a = new Dog();\n",
    "a->makeSound();  // 输出 \"Woof\"\n",
    "a = new Cat();\n",
    "a->makeSound();  // 输出 \"Meow\""
   ]
  }
 ],
 "metadata": {
  "language_info": {
   "name": "python"
  }
 },
 "nbformat": 4,
 "nbformat_minor": 2
}
