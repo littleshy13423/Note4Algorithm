{
 "cells": [
  {
   "cell_type": "markdown",
   "metadata": {},
   "source": [
    "示例代码：（该代码同样用于测试类型说明）"
   ]
  },
  {
   "cell_type": "code",
   "execution_count": null,
   "metadata": {
    "vscode": {
     "languageId": "cpp"
    }
   },
   "outputs": [],
   "source": [
    "// calculator.h\n",
    "#ifndef CALCULATOR_H\n",
    "#define CALCULATOR_H\n",
    "\n",
    "class Calculator {\n",
    "public:\n",
    "    int add(int a, int b);\n",
    "    int subtract(int a, int b);\n",
    "};\n",
    "\n",
    "#endif // CALCULATOR_H"
   ]
  },
  {
   "cell_type": "markdown",
   "metadata": {},
   "source": [
    "#ifndef CALCULATOR_H\n",
    "\n",
    "#ifndef 是 \"if not defined\" 的缩写。\n",
    "\n",
    "这行代码检查 CALCULATOR_H 是否未定义。如果 CALCULATOR_H 未定义，编译器将执行直到 #endif 的代码。\n",
    "\n",
    "#define CALCULATOR_H\n",
    "\n",
    "这行代码定义了 CALCULATOR_H。\n",
    "\n",
    "如果编译器发现 CALCULATOR_H 未定义，它将定义它。之后，当编译器再次遇到同一个头文件，#ifndef 检查将会失败，因为 CALCULATOR_H 已被定义。\n",
    "\n",
    "#endif\n",
    "\n",
    "这是 #ifndef 检查的结束。\n",
    "\n",
    "它告诉编译器，包含保护到此结束。\n",
    "\n",
    "在这个例子中，如果某个或多个源文件包含 calculator.h，Calculator 类只会在第一次包含时定义。如果没有这个包含保护，每次包含 calculator.h 时 Calculator 类都会被重新定义，从而导致重复定义错误。\n",
    "\n",
    "包含保护是C++中处理头文件的标准做法，几乎所有的现代C++项目都会使用它。"
   ]
  }
 ],
 "metadata": {
  "language_info": {
   "name": "python"
  }
 },
 "nbformat": 4,
 "nbformat_minor": 2
}
