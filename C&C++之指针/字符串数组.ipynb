{
 "cells": [
  {
   "cell_type": "markdown",
   "metadata": {},
   "source": [
    "## C 风格字符串数组\n",
    "\n",
    "C 风格的字符串实际上是以 null(\\0) 终止的字符数组。\n",
    "\n",
    "#### 关键知识点：\n",
    "\n",
    "内存布局：每个字符串都占用固定大小的内存。\n",
    "\n",
    "空终止符：C 风格字符串以 \\0（空字符）结尾。这是字符串结束的标记。\n",
    "\n",
    "数组初始化：在声明时，如果字符串长度小于数组定义的大小，剩余的部分会自动用 \\0 填充。\n",
    "\n",
    "访问和修改：可以通过索引来访问或修改字符串数组中的元素。\n",
    "\n",
    "### strcpy\n",
    "\n",
    "在使用 strcpy(char* dest, const char *src) 时要着重注意数组越界问题。 char* dest 需预留 \\0 的空间。\n",
    "同时，strcpy 的复制方法是从源地址一直往后拷贝，直到遇到'\\0'为止。\n",
    "拷贝的长度是不定的。如果一直没有遇到'\\0'导致越界访问非法内存，程序就会崩溃。\n",
    "\n",
    "自己写一个 strcpy:"
   ]
  },
  {
   "cell_type": "code",
   "execution_count": null,
   "metadata": {
    "vscode": {
     "languageId": "cpp"
    }
   },
   "outputs": [],
   "source": [
    "char * strcpy( char *strDest, const char *strSrc ) {\n",
    "    assert( (strDest != NULL) && (strSrc != NULL) );//试图向一个无效的内存地址写入数据，会导致运行时错误。\n",
    "    char* oriDest = strDest; \n",
    "    while( (*strDest++ = *strSrc++) != ‘\\0’ ); \n",
    "    return oriDest;\n",
    "}"
   ]
  },
  {
   "cell_type": "markdown",
   "metadata": {},
   "source": [
    "### const char*\n",
    "\n",
    "当使用 char* str = \"0123456789\"; 定义字符串数组时，本质上是使用了 const char* str = \"0123456789\"。 \n",
    "\n",
    "应使用 const char* str = \"0123456789\" 表意更加明确。\n",
    "\n",
    "定义字符串数组时应避免使用保留字，如 string 。虽然可以编译通过，但不是一个好的编程习惯。\n",
    "\n",
    "### char * const\n",
    "\n",
    "当使用 char str[10] 定义字符串数组的时候，str 是 char * const 类型的，地址固定不能赋值。\n",
    "\n",
    "### malloc\n",
    "\n",
    "向系统申请分配指定size个字节的内存空间，返回类型为void*类型。需强行转换为实际类型的指针。\n",
    "\n",
    "eg：int* p = (int*) malloc ( sizeof (int) );\n",
    "\n",
    "使用 malloc 需要手动释放内存，使用 free(p)。\n",
    "\n",
    "### 二级指针\n",
    "\n",
    "二级指针提供了指向指针的指针。\n",
    "当你有一个指针，指向另一个指针，那么它就是一个二级指针。例如："
   ]
  },
  {
   "cell_type": "code",
   "execution_count": null,
   "metadata": {
    "vscode": {
     "languageId": "cpp"
    }
   },
   "outputs": [],
   "source": [
    "int x = 10;\n",
    "int *p = &x;\n",
    "int **pp = &p;"
   ]
  }
 ],
 "metadata": {
  "language_info": {
   "name": "python"
  }
 },
 "nbformat": 4,
 "nbformat_minor": 2
}
