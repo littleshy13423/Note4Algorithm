{
 "cells": [
  {
   "cell_type": "markdown",
   "metadata": {},
   "source": [
    "## C++ 11\n",
    "C++11，也被称为C++0x，是C++语言的一个重要标准版本，引入了许多改进和新特性，这些特性旨在提高C++的性能，同时也使得代码更简洁、更易于维护。\n",
    "\n",
    "下面是C++11的一些特性：\n",
    "\n",
    "### 自动类型推断（Auto Keyword）\n",
    "\n",
    "auto 关键字可以用于自动推断变量的类型，这使得代码更加简洁，特别是在处理复杂的类型时。"
   ]
  },
  {
   "cell_type": "code",
   "execution_count": null,
   "metadata": {
    "vscode": {
     "languageId": "cpp"
    }
   },
   "outputs": [],
   "source": [
    "auto x = 5; // x 被推断为 int"
   ]
  },
  {
   "cell_type": "markdown",
   "metadata": {},
   "source": [
    "### 基于范围的循环（Range-based Loops）\n",
    "\n",
    "C++11引入了一种新的循环语法，使遍历容器（如数组、向量）更加简单。"
   ]
  },
  {
   "cell_type": "code",
   "execution_count": null,
   "metadata": {
    "vscode": {
     "languageId": "cpp"
    }
   },
   "outputs": [],
   "source": [
    "std::vector<int> v = {1, 2, 3};\n",
    "for (auto i : v) {\n",
    "    std::cout << i << std::endl;\n",
    "}"
   ]
  },
  {
   "cell_type": "markdown",
   "metadata": {},
   "source": [
    "### 智能指针（Smart Pointers）\n",
    "\n",
    "C++11引入了智能指针，如 std::unique_ptr 和 std::shared_ptr，以帮助管理动态分配的内存，减少内存泄漏。"
   ]
  },
  {
   "cell_type": "code",
   "execution_count": null,
   "metadata": {
    "vscode": {
     "languageId": "cpp"
    }
   },
   "outputs": [],
   "source": [
    "std::unique_ptr<int> p(new int(10));\n",
    "/* \n",
    "这行代码在C++中执行了以下几个关键操作：\n",
    "动态内存分配：new int(10) 这部分代码动态分配了一个 int 类型的内存空间，并将其初始化为 10。\n",
    "它在堆（heap）上创建了一个整数并给它赋值。\n",
    "创建智能指针：std::unique_ptr<int> p 声明了一个 std::unique_ptr 智能指针，类型为 int。\n",
    "资源管理：将 new int(10) 返回的裸指针传递给 std::unique_ptr 的构造函数，意味着 std::unique_ptr 现在拥有了这块动态分配的内存。\n",
    "unique_ptr 负责这块内存的生命周期管理。这意味着一旦 unique_ptr 离开其作用域或被销毁，它将自动释放（delete）所拥有的内存。 \n",
    "*/"
   ]
  },
  {
   "cell_type": "markdown",
   "metadata": {},
   "source": [
    "### 线程支持\n",
    "C++11标准库中添加了对线程的支持，包括启动和管理线程的类，以及互斥锁和条件变量。"
   ]
  },
  {
   "cell_type": "code",
   "execution_count": null,
   "metadata": {
    "vscode": {
     "languageId": "cpp"
    }
   },
   "outputs": [],
   "source": [
    "std::thread t([]{\n",
    "    std::cout << \"Hello from thread\" << std::endl;\n",
    "});\n",
    "t.join();"
   ]
  },
  {
   "cell_type": "markdown",
   "metadata": {},
   "source": [
    "### 右值引用和移动语义（Rvalue References and Move Semantics）\n",
    "通过引入右值引用和移动语义，C++11允许资源的转移，而不是复制，可以优化性能。"
   ]
  },
  {
   "cell_type": "code",
   "execution_count": null,
   "metadata": {
    "vscode": {
     "languageId": "cpp"
    }
   },
   "outputs": [],
   "source": [
    "std::string a = \"Hello\";\n",
    "std::string b = std::move(a); // \"移动\" a 到 b"
   ]
  },
  {
   "cell_type": "markdown",
   "metadata": {},
   "source": [
    "### nullptr关键字\n",
    "引入了 nullptr 关键字，用于更清晰地表示空指针，取代了以前的 NULL 宏。"
   ]
  }
 ],
 "metadata": {
  "language_info": {
   "name": "python"
  }
 },
 "nbformat": 4,
 "nbformat_minor": 2
}
