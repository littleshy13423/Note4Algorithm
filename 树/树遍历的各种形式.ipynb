{
 "cells": [
  {
   "cell_type": "markdown",
   "id": "58096457-5687-45a4-beed-d49b94d42058",
   "metadata": {},
   "source": [
    "## 四种遍历\n",
    "### 前序遍历（Preorder Traversal）：\n",
    "\n",
    "前序遍历的顺序是先根节点，然后左子树，最后右子树。\n",
    "\n",
    "### 中序遍历（Inorder Traversal）：\n",
    "\n",
    "中序遍历的顺序是先左子树，然后根节点，最后右子树。对于二叉搜索树（Binary Search Tree，BST），中序遍历的结果是有序的。\n",
    "\n",
    "### 后序遍历（Postorder Traversal）：\n",
    "\n",
    "后序遍历的顺序是先左子树，然后右子树，最后根节点。\n",
    "\n",
    "### 层序遍历（Level Order Traversal）：\n",
    "\n",
    "从根节点开始，逐层访问树的每个节点。\n",
    "每一层内的节点按照从左到右的顺序访问。\n",
    "层序遍历通常使用队列来实现，确保按照层级顺序进行访问。"
   ]
  },
  {
   "cell_type": "markdown",
   "id": "f0c668bd-7fb5-4750-91fa-b3fd28f604b8",
   "metadata": {},
   "source": [
    "## 算法实现\n",
    "### 树的构造"
   ]
  },
  {
   "cell_type": "markdown",
   "id": "300b85a5-4c5c-4641-b806-fb8ffcb85a42",
   "metadata": {},
   "source": [
    "/**\n",
    " * struct TreeNode {\n",
    " *\tint val;\n",
    " *\tstruct TreeNode *left;\n",
    " *\tstruct TreeNode *right;\n",
    " *\tTreeNode(int x) : val(x), left(nullptr), right(nullptr) {}\n",
    " * };\n",
    " */"
   ]
  },
  {
   "cell_type": "markdown",
   "id": "231ba56d-12a1-4184-8598-21e1d184559b",
   "metadata": {},
   "source": [
    "### 前序遍历（Preorder Traversal）：\n",
    "#### 递归："
   ]
  },
  {
   "cell_type": "code",
   "execution_count": null,
   "id": "8cf8e4b1-99bc-4842-b294-6f1f27c55846",
   "metadata": {},
   "outputs": [],
   "source": [
    "void preorderTraversalRec(TreeNode* root) {\n",
    "    if (root == nullptr) return;\n",
    "    cout << root->val << \" \";\n",
    "    preorderTraversalRec(root->left);\n",
    "    preorderTraversalRec(root->right);\n",
    "}"
   ]
  },
  {
   "cell_type": "markdown",
   "id": "47b4484a-d93f-46ee-a4db-2401539e510c",
   "metadata": {},
   "source": [
    "#### 迭代"
   ]
  },
  {
   "cell_type": "code",
   "execution_count": null,
   "id": "9e914612-c5d8-4be8-8e49-b413f74c8c85",
   "metadata": {},
   "outputs": [],
   "source": [
    "void preorderTraversalIter(TreeNode* root) {\n",
    "    if (root == nullptr) return;\n",
    "    stack<TreeNode*> stk;\n",
    "    stk.push(root);\n",
    "\n",
    "    while (!stk.empty()) {\n",
    "        TreeNode* node = stk.top();\n",
    "        stk.pop();\n",
    "        cout << node->val << \" \";\n",
    "        if (node->right) \n",
    "            stk.push(node->right);\n",
    "        if (node->left) \n",
    "            stk.push(node->left);\n",
    "    }\n",
    "}"
   ]
  },
  {
   "cell_type": "markdown",
   "id": "432f4175-fd24-4548-924b-a8e33f765536",
   "metadata": {},
   "source": [
    "## 中序遍历（Inorder Traversal）\n",
    "### 递归"
   ]
  },
  {
   "cell_type": "code",
   "execution_count": null,
   "id": "fbc5507b-af48-4d0b-98af-b06091228f4e",
   "metadata": {},
   "outputs": [],
   "source": [
    "void inorderTraversalRec(TreeNode* root) {\n",
    "    if (root == nullptr) return;\n",
    "    inorderTraversalRec(root->left);\n",
    "    cout << root->val << \" \";\n",
    "    inorderTraversalRec(root->right);\n",
    "}"
   ]
  },
  {
   "cell_type": "markdown",
   "id": "68b4df4b-602c-43f1-b3b2-6df5d9db0460",
   "metadata": {},
   "source": [
    "### 迭代"
   ]
  },
  {
   "cell_type": "code",
   "execution_count": null,
   "id": "421b44ab-3ae1-4af5-ba24-aba4be4d0f86",
   "metadata": {},
   "outputs": [],
   "source": [
    "void inorderTraversalIter(TreeNode* root) {\n",
    "    stack<TreeNode*> stk;\n",
    "    TreeNode* curr = root;\n",
    "\n",
    "    while (curr != nullptr || !stk.empty()) {\n",
    "        while (curr != nullptr) {\n",
    "            stk.push(curr);\n",
    "            curr = curr->left;\n",
    "        }\n",
    "        curr = stk.top();\n",
    "        stk.pop();\n",
    "        cout << curr->val << \" \";\n",
    "        curr = curr->right;\n",
    "    }\n",
    "}"
   ]
  },
  {
   "cell_type": "markdown",
   "id": "d77e6eeb-2126-42f2-98c9-8f8a803d3e6b",
   "metadata": {},
   "source": [
    "## 后序遍历（Postorder Traversal）\n",
    "### 递归"
   ]
  },
  {
   "cell_type": "code",
   "execution_count": null,
   "id": "86fa9db7-6991-4ce0-8bf3-db3b95726e3a",
   "metadata": {},
   "outputs": [],
   "source": [
    "void postorderTraversalRec(TreeNode* root) {\n",
    "    if (root == nullptr) return;\n",
    "    postorderTraversalRec(root->left);\n",
    "    postorderTraversalRec(root->right);\n",
    "    cout << root->val << \" \";\n",
    "}"
   ]
  },
  {
   "cell_type": "markdown",
   "id": "4d8b1aa4-c4d5-45ff-8ac4-483c22461686",
   "metadata": {},
   "source": [
    "### 迭代"
   ]
  },
  {
   "cell_type": "code",
   "execution_count": null,
   "id": "68d838b4-7b80-40de-8992-452e628c53a9",
   "metadata": {},
   "outputs": [],
   "source": [
    "void postorderTraversalIter(TreeNode* root) {\n",
    "    if (root == nullptr) return;\n",
    "    stack<TreeNode*> stk;\n",
    "    TreeNode* lastVisited = nullptr;\n",
    "    TreeNode* curr = root;\n",
    "\n",
    "    while (curr != nullptr || !stk.empty()) {\n",
    "        //对于每一棵树，我们都需要先找最左边的节点\n",
    "        while (curr != nullptr) {\n",
    "            //同时将经过的节点入栈\n",
    "            stk.push(curr);\n",
    "            curr = curr->left;\n",
    "        }\n",
    "        //node为找到的最左节点\n",
    "        TreeNode* node = stk.top();\n",
    "        //如果node没有右子树或右子树根节点是上一轮输出的对象，则输出node并标记为lastVisited\n",
    "        if (node->right == nullptr || node->right == lastVisited) {\n",
    "            cout << node->val << \" \";\n",
    "            lastVisited = node;\n",
    "            stk.pop();\n",
    "        } \n",
    "        // 右边有节点，且不是上一轮输出的对象则向右深入\n",
    "        else \n",
    "        {   \n",
    "            stk.push(node)\n",
    "            //新子树的根节点，下一个循环中从找到子树最左节点重复\n",
    "            curr = node->right;\n",
    "        }\n",
    "    }\n",
    "}"
   ]
  },
  {
   "cell_type": "markdown",
   "id": "d45c5d46-5444-433f-9ca5-626d11f9c15d",
   "metadata": {},
   "source": [
    "## 层次遍历（Level Order Traversal） \n",
    "### 通常只用迭代方法"
   ]
  },
  {
   "cell_type": "code",
   "execution_count": null,
   "id": "68c30de8-61e8-44e1-90b7-aef413248a13",
   "metadata": {},
   "outputs": [],
   "source": [
    "void levelOrderTraversal(TreeNode* root) {\n",
    "    if (root == nullptr) return;\n",
    "    queue<TreeNode*> q;\n",
    "    q.push(root);\n",
    "\n",
    "    while (!q.empty()) {\n",
    "        TreeNode* node = q.front();\n",
    "        q.pop();\n",
    "        cout << node->val << \" \";\n",
    "        if (node->left) q.push(node->left);\n",
    "        if (node->right) q.push(node->right);\n",
    "    }\n",
    "}"
   ]
  }
 ],
 "metadata": {
  "kernelspec": {
   "display_name": "Python 3 (ipykernel)",
   "language": "python",
   "name": "python3"
  },
  "language_info": {
   "codemirror_mode": {
    "name": "ipython",
    "version": 3
   },
   "file_extension": ".py",
   "mimetype": "text/x-python",
   "name": "python",
   "nbconvert_exporter": "python",
   "pygments_lexer": "ipython3",
   "version": "3.11.4"
  }
 },
 "nbformat": 4,
 "nbformat_minor": 5
}
