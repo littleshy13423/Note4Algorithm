{
 "cells": [
  {
   "cell_type": "markdown",
   "metadata": {},
   "source": [
    "# 多态\n",
    "## 静态多态（Static Polymorphism）与动态多态（Dynamic Polymorphism）\n",
    "### 静态多态（又被称为重载Overloading）\n",
    "\n",
    "定义：在编译时实现的多态。最常见的实现方式是通过函数重载和模板。\n",
    "\n",
    "特点：\n",
    "编译器在编译时决定使用哪个函数或模板。\n",
    "无需运行时类型信息（RTTI）。\n",
    "通常更高效，因为它消除了运行时的类型检查。\n",
    "\n",
    "示例："
   ]
  },
  {
   "cell_type": "code",
   "execution_count": null,
   "metadata": {
    "vscode": {
     "languageId": "cpp"
    }
   },
   "outputs": [],
   "source": [
    "class Print {\n",
    "public:\n",
    "    void show(int i) {\n",
    "        cout << \"Integer: \" << i << endl;\n",
    "    }\n",
    "    void show(string s) {\n",
    "        cout << \"String: \" << s << endl;\n",
    "    }\n",
    "};\n",
    "\n",
    "Print p;\n",
    "p.show(10);   // 调用 show(int)\n",
    "p.show(\"Hi\"); // 调用 show(string)\n",
    "\n",
    "//编译器根据传递给show函数的参数类型，在编译时决定调用哪个函数。"
   ]
  },
  {
   "cell_type": "markdown",
   "metadata": {},
   "source": [
    "#### 函数参数的 const 重载\n",
    "\n",
    "顶层 const 不影响重载：函数的参数如果有顶层 const，它不会影响函数重载的过程。函数参数中的顶层 const 在调用时会被忽略，因为顶层 const 不影响传入参数的类型。\n",
    "\n",
    "底层 const 影响重载：如果函数参数是指针或引用，并且 const 是底层的（即指向的数据是 const），那么它会影响重载决议。底层 const 可以创建一个新的重载版本。"
   ]
  },
  {
   "cell_type": "code",
   "execution_count": null,
   "metadata": {
    "vscode": {
     "languageId": "cpp"
    }
   },
   "outputs": [],
   "source": [
    "void func(int* ptr) { ... }\n",
    "void func(const int* ptr) { ... } // 有效重载，因为 const 是底层的\n",
    "\n",
    "void func(int val) { ... }\n",
    "void func(const int val) { ... } // 无效重载，因为 const 是顶层的"
   ]
  },
  {
   "cell_type": "markdown",
   "metadata": {},
   "source": [
    "### 动态多态（又被称为重写Overriding）\n",
    "定义：在运行时实现的多态。通常通过虚函数和继承实现。\n",
    "\n",
    "特点：\n",
    "编译器在运行时决定调用哪个函数。\n",
    "依赖于运行时类型信息（RTTI）。\n",
    "灵活但可能略低效，因为涉及运行时决策。\n",
    "\n",
    "示例："
   ]
  },
  {
   "cell_type": "code",
   "execution_count": null,
   "metadata": {
    "vscode": {
     "languageId": "cpp"
    }
   },
   "outputs": [],
   "source": [
    "class Animal {\n",
    "public:\n",
    "    virtual void makeSound() { cout << \"Some sound\"; }\n",
    "};\n",
    "\n",
    "class Dog : public Animal {\n",
    "public:\n",
    "    void makeSound() { cout << \"Woof\"; }\n",
    "};\n",
    "\n",
    "class Cat : public Animal {\n",
    "public:\n",
    "    void makeSound() { cout << \"Meow\"; }\n",
    "};\n",
    "\n",
    "Animal* a = new Dog();\n",
    "a->makeSound();  // 输出 \"Woof\"\n",
    "a = new Cat();\n",
    "a->makeSound();  // 输出 \"Meow\""
   ]
  }
 ],
 "metadata": {
  "language_info": {
   "name": "python"
  }
 },
 "nbformat": 4,
 "nbformat_minor": 2
}
