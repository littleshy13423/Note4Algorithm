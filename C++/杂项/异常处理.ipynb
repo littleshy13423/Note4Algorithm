{
 "cells": [
  {
   "cell_type": "markdown",
   "metadata": {},
   "source": [
    "## 异常\n",
    "\n",
    "在C++中，异常处理是一种处理程序执行过程中出现的意外情况或错误的机制。当函数遇到无法在其正常执行流程中解决的问题时，它可以抛出一个异常。这个异常可以在程序的更高层次被捕获和处理，从而防止程序崩溃或产生未预期的行为。\n",
    "\n",
    "### 异常处理的概念\n",
    "\n",
    "异常（Exception）：表示在程序执行过程中出现的异常或非预期情况。它可以是由语言定义的异常类型，也可以是开发者定义的任何自定义类。\n",
    "\n",
    "抛出异常（Throwing an Exception）：当程序检测到错误条件时，可以通过throw关键字抛出异常。这表示在当前点程序不能正常执行下去。\n",
    "\n",
    "捕获异常（Catching an Exception）：通过try和catch块，程序可以捕获并处理异常。try块包含可能抛出异常的代码，catch块处理特定类型的异常。\n",
    "\n",
    "异常传播（Exception Propagation）：如果异常在当前作用域内未被捕获，它会被传播（或传递）到调用函数的作用域中，这个过程会持续进行，直到找到相应的catch块或达到main函数。如果main函数也未捕获该异常，程序将终止。\n",
    "\n",
    "### 示例代码："
   ]
  },
  {
   "cell_type": "code",
   "execution_count": null,
   "metadata": {
    "vscode": {
     "languageId": "cpp"
    }
   },
   "outputs": [],
   "source": [
    "#include <iostream>\n",
    "#include <stdexcept> // 标准异常类\n",
    "\n",
    "int divide(int a, int b) {\n",
    "    if (b == 0) {\n",
    "        throw std::invalid_argument(\"Divisor cannot be zero.\"); // 抛出异常\n",
    "    }\n",
    "    return a / b;\n",
    "}\n",
    "\n",
    "int main() {\n",
    "    try {\n",
    "        int result = divide(10, 0);\n",
    "        std::cout << \"Result: \" << result << std::endl;\n",
    "    } catch (const std::invalid_argument& e) {\n",
    "        std::cerr << \"Caught exception: \" << e.what() << std::endl; // 捕获并处理异常\n",
    "    }\n",
    "\n",
    "    std::cout << \"Program continues after exception handling.\" << std::endl;\n",
    "\n",
    "    return 0;\n",
    "}\n"
   ]
  }
 ],
 "metadata": {
  "language_info": {
   "name": "python"
  }
 },
 "nbformat": 4,
 "nbformat_minor": 2
}
