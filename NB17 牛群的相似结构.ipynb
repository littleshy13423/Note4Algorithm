{
 "cells": [
  {
   "cell_type": "markdown",
   "metadata": {},
   "source": [
    "## 描述\n",
    "\n",
    "农场里有两群牛，每群牛的成员分布在山坡上，形成了一个二叉树结构。每头牛都有一个编号，表示它在牛群中的身份。请你编写一个程序，判断这两个牛群的结构是否相同。\n",
    "如果两个牛群在结构上相同，并且牛的编号具有相同的值，则认为它们的结构是相同的。\n",
    "\n",
    "## 解法\n",
    "\n",
    "发现题解里都是递归的解法没有用stack优化的解法，于是自己写了一个"
   ]
  },
  {
   "cell_type": "code",
   "execution_count": null,
   "metadata": {
    "vscode": {
     "languageId": "cpp"
    }
   },
   "outputs": [],
   "source": [
    "/**\n",
    " * struct TreeNode {\n",
    " *\tint val;\n",
    " *\tstruct TreeNode *left;\n",
    " *\tstruct TreeNode *right;\n",
    " *\tTreeNode(int x) : val(x), left(nullptr), right(nullptr) {}\n",
    " * };\n",
    " */\n",
    "class Solution {\n",
    "public:\n",
    "    /**\n",
    "     * 代码中的类名、方法名、参数名已经指定，请勿修改，直接返回方法规定的值即可\n",
    "     *\n",
    "     * \n",
    "     * @param p TreeNode类 \n",
    "     * @param q TreeNode类 \n",
    "     * @return bool布尔型\n",
    "     */\n",
    "    bool isSameTree(TreeNode* p, TreeNode* q) {\n",
    "        // write code here\n",
    "        if (!p && !q) {\n",
    "            return true;\n",
    "        }\n",
    "        else if (!p || !q) {\n",
    "            return false;\n",
    "        }\n",
    "        //到此为止确保p,q都不为空，开始遍历\n",
    "        std::stack<TreeNode*> stkp;\n",
    "        std::stack<TreeNode*> stkq;\n",
    "        stkp.push(p);\n",
    "        stkq.push(q);\n",
    "        while(!stkp.empty() && !stkq.empty()){\n",
    "            p = stkp.top();\n",
    "            q = stkq.top();\n",
    "            stkp.pop();\n",
    "            stkq.pop();\n",
    "            if (p->val!=q->val) {\n",
    "                return false;\n",
    "            }\n",
    "            if (p->right && q->right) {\n",
    "                stkp.push(p->right);\n",
    "                stkq.push(q->right);\n",
    "            }\n",
    "            else if(p->right || q->right){\n",
    "                return false;\n",
    "            }\n",
    "            if (p->left && q->left) {\n",
    "                stkp.push(p->left);\n",
    "                stkq.push(q->left);\n",
    "            }\n",
    "            else if(p->left || q->left){\n",
    "                return false;\n",
    "            }\n",
    "        }\n",
    "        return true;\n",
    "    }\n",
    "};"
   ]
  }
 ],
 "metadata": {
  "language_info": {
   "name": "python"
  }
 },
 "nbformat": 4,
 "nbformat_minor": 2
}
