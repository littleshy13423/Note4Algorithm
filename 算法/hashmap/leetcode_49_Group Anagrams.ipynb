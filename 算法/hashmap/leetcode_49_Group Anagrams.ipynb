{
 "cells": [
  {
   "cell_type": "markdown",
   "metadata": {},
   "source": [
    "## Group Anagrams\n",
    "\n",
    "Given an array of strings strs, group the anagrams together. You can return the answer in any order.\n",
    "\n",
    "An Anagram is a word or phrase formed by rearranging the letters of a different word or phrase, typically using all the original letters exactly once.\n",
    "\n",
    "Example 1:\n",
    "\n",
    "Input: strs = [\"eat\",\"tea\",\"tan\",\"ate\",\"nat\",\"bat\"]\n",
    "\n",
    "Output: [[\"bat\"],[\"nat\",\"tan\"],[\"ate\",\"eat\",\"tea\"]]\n",
    "\n",
    "\n",
    "Example 2:\n",
    "\n",
    "Input: strs = [\"\"]\n",
    "\n",
    "Output: [[\"\"]]\n",
    "\n",
    "Example 3:\n",
    "\n",
    "\n",
    "Input: strs = [\"a\"]\n",
    "\n",
    "Output: [[\"a\"]]\n",
    " \n",
    "\n",
    "Constraints:\n",
    "\n",
    "1 <= strs.length <= 104\n",
    "\n",
    "0 <= strs[i].length <= 100\n",
    "\n",
    "strs[i] consists of lowercase English letters."
   ]
  },
  {
   "cell_type": "code",
   "execution_count": null,
   "metadata": {
    "vscode": {
     "languageId": "cpp"
    }
   },
   "outputs": [],
   "source": [
    "class Solution {\n",
    "public:\n",
    "    vector<vector<string>> groupAnagrams(vector<string>& strs) {\n",
    "        vector<vector<string>> res;\n",
    "        unordered_map<string, vector<string>> map;\n",
    "        for(auto str: strs){\n",
    "            string key = str;\n",
    "            sort(key.begin(), key.end());\n",
    "            map[key].emplace_back(str);\n",
    "        }\n",
    "        for(auto& it: map){\n",
    "            res.emplace_back(it.second);\n",
    "        }\n",
    "        return res;\n",
    "    }\n",
    "};"
   ]
  },
  {
   "cell_type": "markdown",
   "metadata": {},
   "source": [
    "### 笔记\n",
    "\n",
    "#### 1. map[key].emplace_back(str);\n",
    "类似于 map[key] = val，\n",
    "\n",
    "在本题中\n",
    "map[key].emplace_back(str);当 key 不存在时会先创建一个空的 vector<string> 再调用 emplace_back 插入 string 值。\n",
    "\n",
    "#### 2. res.emplace_back(it.second);\n",
    "\n",
    "使用 auto& it：map 遍历 unordered_map 时，使用 it.first 和 it.second 可以分别得到键与值。\n",
    "\n",
    "使用 auto it = map.begin(); it! = map.end(); it++ 遍历时，通过 it->first 和 it->second 分别得到键与值。"
   ]
  }
 ],
 "metadata": {
  "language_info": {
   "name": "python"
  }
 },
 "nbformat": 4,
 "nbformat_minor": 2
}
