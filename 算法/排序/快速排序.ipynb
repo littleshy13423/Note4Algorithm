{
 "cells": [
  {
   "cell_type": "markdown",
   "metadata": {},
   "source": [
    "## 快速排序\n",
    "\n",
    "快速排序的基本思路：选择基准数，将大于基准数的数放到一边，小于基准数的数放到另一边，对两边继续进行快速排序。\n",
    "\n",
    "### 基准数的选择\n",
    "\n",
    "传统快速排序选择最左或最右的数作为基准数，但这种做法容易在面对一些特殊规律的数组是退化成 $ n^2 $ 复杂度。\n",
    "\n",
    "常用的解决方案是从最左最右和中间的三个书中选择中位数作为基准数。"
   ]
  },
  {
   "cell_type": "code",
   "execution_count": null,
   "metadata": {
    "vscode": {
     "languageId": "cpp"
    }
   },
   "outputs": [],
   "source": [
    "// 实现三数取中\n",
    "int medianOfThree(int a, int b, int c) {\n",
    "    if ((a - b) * (c - a) >= 0)\n",
    "        return a;\n",
    "    else if ((b - a) * (c - b) >= 0)\n",
    "        return b;\n",
    "    else\n",
    "        return c;\n",
    "}"
   ]
  },
  {
   "cell_type": "code",
   "execution_count": null,
   "metadata": {
    "vscode": {
     "languageId": "cpp"
    }
   },
   "outputs": [],
   "source": [
    "//快速排序的基本框架\n",
    "void quicksort(std::vector<int>& arr, int left, int right) {\n",
    "    if (left < right) {\n",
    "        int mid = left + (right - left) / 2;\n",
    "        int pivot = medianOfThree(arr[left], arr[mid], arr[right]);\n",
    "        int partitionIndex = partition(arr, left, right, pivot);\n",
    "\n",
    "        quicksort(arr, left, partitionIndex - 1);\n",
    "        quicksort(arr, partitionIndex + 1, right);\n",
    "    }\n",
    "}"
   ]
  },
  {
   "cell_type": "code",
   "execution_count": null,
   "metadata": {
    "vscode": {
     "languageId": "cpp"
    }
   },
   "outputs": [],
   "source": [
    "// 分区函数\n",
    "int partition(std::vector<int>& arr, int left, int right, int pivot) {\n",
    "    while (left <= right) {\n",
    "        while (arr[left] < pivot) left++;\n",
    "        while (arr[right] > pivot) right--;\n",
    "        if (left <= right) {\n",
    "            std::swap(arr[left], arr[right]);\n",
    "            left++;\n",
    "            right--;\n",
    "        }\n",
    "    }\n",
    "    return left;\n",
    "}"
   ]
  }
 ],
 "metadata": {
  "language_info": {
   "name": "python"
  }
 },
 "nbformat": 4,
 "nbformat_minor": 2
}
