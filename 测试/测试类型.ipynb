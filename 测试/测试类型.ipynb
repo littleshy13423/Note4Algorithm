{
 "cells": [
  {
   "cell_type": "markdown",
   "metadata": {},
   "source": [
    "## 测试类型\n",
    "\n",
    "测试分为黑盒测试，白盒测试与单元测试\n",
    "\n",
    "### 黑盒测试\n",
    "\n",
    "黑盒测试是一种软件测试方法，它着重于测试软件的功能而不关注内部实现。\n",
    "黑盒测试者不需要了解程序的内部代码结构，只需关注输入和预期的输出。这种测试方法通常用于验证软件是否按照规格说明书正确运行。\n",
    "\n",
    "### 白盒测试\n",
    "\n",
    "白盒测试与黑盒测试相反，它要求测试者了解程序的内部逻辑和代码结构。白盒测试主要关注代码的每个分支、循环、条件语句等，确保代码的每一部分都被测试到。这种测试有助于识别逻辑错误、覆盖未被使用的代码路径等。\n",
    "\n",
    "### 单元测试\n",
    "\n",
    "单元测试是指对软件中最小可测试单元进行检查和验证，例如单个函数、方法或类。单元测试通常由开发者编写，目的是确保每个组件都能正常运行。\n",
    "单元测试通常会涉及白盒测试方法，因为需要验证特定功能的内部逻辑。\n",
    "\n",
    "## 单元测试框架\n",
    "\n",
    "使用单元测试框架可以简化测试的流程，常用的测试框架有许多，这里以 Google Test 为例。\n",
    "\n",
    "### Google Test 部署\n",
    "\n",
    "在 VScode 中部署 Google Test 详见 VSCode 官方教程：https://learn.microsoft.com/zh-cn/visualstudio/test/how-to-use-google-test-for-cpp?view=vs-2022\n",
    "\n",
    "## 测试示例\n",
    "\n",
    "假设我们有一个 Calculator 类，提供基本的数学运算，比如加法和减法。"
   ]
  },
  {
   "cell_type": "code",
   "execution_count": null,
   "metadata": {
    "vscode": {
     "languageId": "cpp"
    }
   },
   "outputs": [],
   "source": [
    "// calculator.h\n",
    "#ifndef CALCULATOR_H\n",
    "#define CALCULATOR_H\n",
    "\n",
    "class Calculator {\n",
    "public:\n",
    "    int add(int a, int b);\n",
    "    int subtract(int a, int b);\n",
    "};\n",
    "\n",
    "#endif // CALCULATOR_H"
   ]
  },
  {
   "cell_type": "code",
   "execution_count": null,
   "metadata": {
    "vscode": {
     "languageId": "cpp"
    }
   },
   "outputs": [],
   "source": [
    "// calculator.cpp\n",
    "#include \"calculator.h\"\n",
    "\n",
    "int Calculator::add(int a, int b) {\n",
    "    return a + b;\n",
    "}\n",
    "\n",
    "int Calculator::subtract(int a, int b) {\n",
    "    return a - b;\n",
    "}"
   ]
  },
  {
   "cell_type": "markdown",
   "metadata": {},
   "source": [
    "单元测试："
   ]
  },
  {
   "cell_type": "code",
   "execution_count": null,
   "metadata": {
    "vscode": {
     "languageId": "cpp"
    }
   },
   "outputs": [],
   "source": [
    "// calculator_test.cpp\n",
    "#include <gtest/gtest.h>\n",
    "#include \"calculator.h\"\n",
    "\n",
    "class CalculatorTest : public ::testing::Test {\n",
    "protected:\n",
    "    Calculator calc;\n",
    "};\n",
    "\n",
    "TEST_F(CalculatorTest, AddsTwoNumbers) {\n",
    "    EXPECT_EQ(5, calc.add(2, 3));\n",
    "}\n",
    "\n",
    "TEST_F(CalculatorTest, SubtractsTwoNumbers) {\n",
    "    EXPECT_EQ(1, calc.subtract(3, 2));\n",
    "}\n",
    "\n",
    "int main(int argc, char **argv) {\n",
    "    ::testing::InitGoogleTest(&argc, argv);\n",
    "    return RUN_ALL_TESTS();\n",
    "}"
   ]
  }
 ],
 "metadata": {
  "language_info": {
   "name": "python"
  }
 },
 "nbformat": 4,
 "nbformat_minor": 2
}
