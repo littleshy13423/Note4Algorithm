{
 "cells": [
  {
   "cell_type": "markdown",
   "metadata": {},
   "source": [
    "## 构造函数、析构函数和赋值函数\n",
    "\n",
    "编写类String的构造函数、析构函数和赋值函数，已知类String的原型为："
   ]
  },
  {
   "cell_type": "code",
   "execution_count": null,
   "metadata": {
    "vscode": {
     "languageId": "cpp"
    }
   },
   "outputs": [],
   "source": [
    "class String\n",
    "{ \n",
    " public: \n",
    " String(const char *str = NULL); // 普通构造函数 \n",
    " String(const String &other); // 拷贝构造函数 \n",
    " ~ String(void); // 析构函数 \n",
    " String & operator =(const String &other); // 赋值函数 \n",
    " private: \n",
    " char *m_data; // 用于保存字符串 \n",
    "};"
   ]
  },
  {
   "cell_type": "markdown",
   "metadata": {},
   "source": [
    "参考答案："
   ]
  },
  {
   "cell_type": "code",
   "execution_count": null,
   "metadata": {
    "vscode": {
     "languageId": "cpp"
    }
   },
   "outputs": [],
   "source": [
    "//普通构造函数 \n",
    "String::String(const char *str)  \n",
    "{ \n",
    "    if(str==NULL)  { \n",
    "        m_data = new char[1]; // 得分点：对空字符串自动申请存放结束标志'\\0'的空 \n",
    "        //加分点：对m_data加NULL 判断 \n",
    "        *m_data = '\\0';  \n",
    "    }  \n",
    "    else { \n",
    "        int length = strlen(str);  \n",
    "        m_data = new char[length+1]; \n",
    "        strcpy(m_data, str);  \n",
    "    } \n",
    "} \n",
    "// String的析构函数 \n",
    "String::~String(void)  \n",
    "{ \n",
    "    delete [] m_data; // 或delete m_data; \n",
    "} \n",
    "//拷贝构造函数 \n",
    "String::String(const String &other) 　　　// 得分点：输入参数为const型 \n",
    "{  \n",
    "    int length = strlen(other.m_data);  \n",
    "    m_data = new char[length+1];\n",
    "    strcpy(m_data, other.m_data);  \n",
    "} \n",
    "//赋值函数 \n",
    "String & String::operator =(const String &other) // 得分点：输入参数为const型 \n",
    "{  \n",
    "    if(this == &other) 　　//得分点：检查自赋值 \n",
    "        return *this;  \n",
    "    delete [] m_data; 　　　　//得分点：释放原有的内存资源 \n",
    "    int length = strlen( other.m_data );  \n",
    "    m_data = new char[length+1]; \n",
    "    strcpy( m_data, other.m_data );  \n",
    "    return *this;\n",
    "} "
   ]
  },
  {
   "cell_type": "markdown",
   "metadata": {},
   "source": [
    "尝试做一些基于C++11的简化："
   ]
  },
  {
   "cell_type": "code",
   "execution_count": null,
   "metadata": {
    "vscode": {
     "languageId": "cpp"
    }
   },
   "outputs": [],
   "source": [
    "String::String(const char *str) : m_data(str ? new char[strlen(str) + 1] : new char[1]) {\n",
    "    if (str) {\n",
    "        strcpy(m_data, str);\n",
    "    } else {\n",
    "        *m_data = '\\0';\n",
    "    }\n",
    "}"
   ]
  },
  {
   "cell_type": "markdown",
   "metadata": {},
   "source": [
    "在 C++11 中，可以利用委托构造函数简化代码："
   ]
  },
  {
   "cell_type": "code",
   "execution_count": null,
   "metadata": {
    "vscode": {
     "languageId": "cpp"
    }
   },
   "outputs": [],
   "source": [
    "String::String(const String &other) : String(other.m_data) {}"
   ]
  }
 ],
 "metadata": {
  "language_info": {
   "name": "python"
  }
 },
 "nbformat": 4,
 "nbformat_minor": 2
}
