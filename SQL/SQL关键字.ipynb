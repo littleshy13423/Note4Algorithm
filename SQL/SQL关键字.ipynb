{
 "cells": [
  {
   "cell_type": "markdown",
   "metadata": {},
   "source": [
    "## 数据定义语言（DDL）\n",
    "\n",
    "### 关键字 \n",
    "\n",
    "creat 创建表； alter 修改数据表； drop 删除数据表\n",
    "\n",
    "## 数据查询语言（DQL）\n",
    "\n",
    "### 关键字\n",
    "\n",
    "select 表示希望查询的内容（输出）； from 表示从哪个表查找数据； where 表示查询条件。\n",
    "\n",
    "## 数据操纵语言（DML）\n",
    "\n",
    "### 关键字\n",
    "\n",
    "insert 插入数据； update 对数据进行修改； delete 删除数据。\n",
    "\n"
   ]
  }
 ],
 "metadata": {
  "language_info": {
   "name": "python"
  }
 },
 "nbformat": 4,
 "nbformat_minor": 2
}
