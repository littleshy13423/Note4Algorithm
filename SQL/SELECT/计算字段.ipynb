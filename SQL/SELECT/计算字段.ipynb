{
 "cells": [
  {
   "cell_type": "markdown",
   "metadata": {},
   "source": [
    "## 字段（field）\n",
    "\n",
    "### 计算字段\n",
    "\n",
    "计算字段用来从数据库中检索出转换、计算或格式化过后的数据。\n",
    "字段（field）基本上和列（column）意思相同，经常互换使用。\n",
    "不过数据库列一般称为列，而字段这个术语通常在计算字段这种场合下使用。\n",
    "对于客户端来说，计算字段和数据库列的数据返回方式相同。\n",
    "\n",
    "### 拼接字段\n",
    "\n",
    "#### 拼接（concatenate）\n",
    "\n",
    "将值联结到一起构成单个值。\n",
    "\n",
    "根据 DBMS 不同，可以使用 “+” 或 “||” 或函数。示例："
   ]
  },
  {
   "cell_type": "code",
   "execution_count": null,
   "metadata": {
    "vscode": {
     "languageId": "plaintext"
    }
   },
   "outputs": [],
   "source": [
    "SELECT A + '(' + B + ')'\n",
    "FROM table\n",
    "//\n",
    "SELECT A || '(' || B || ')'\n",
    "FROM table\n",
    "//\n",
    "SELECT Concat(A, '(', B, ')')\n",
    "FROM table"
   ]
  },
  {
   "cell_type": "markdown",
   "metadata": {},
   "source": [
    "### RTRIM\n",
    "\n",
    "许多数据库用空格保存填充为列宽的文本值，如果希望去掉这些空格可以使用 RTRIM() 函数。\n",
    "\n",
    "RTRIM() 函数将去掉值右边所有的空格，如果希望取消左边的空格则使用 LTRIM()，\n",
    "TRIM() 则将同时去掉左右两边的空格。\n",
    "\n",
    "用法示例："
   ]
  },
  {
   "cell_type": "code",
   "execution_count": null,
   "metadata": {
    "vscode": {
     "languageId": "plaintext"
    }
   },
   "outputs": [],
   "source": [
    "SELECT RTRIM(A) + '(' + RTRIM(B) + ')'"
   ]
  },
  {
   "cell_type": "markdown",
   "metadata": {},
   "source": [
    "### 别名\n",
    "\n",
    "构造出来的字段本身是没有字段名的，可以使用 AS 为创建的字段命名。客户端可以按别名引用这个列。"
   ]
  },
  {
   "cell_type": "code",
   "execution_count": null,
   "metadata": {
    "vscode": {
     "languageId": "plaintext"
    }
   },
   "outputs": [],
   "source": [
    "SELECT RTRIM(A) + '(' + RTRIM(B) + ')'\n",
    "AS new_columnname"
   ]
  },
  {
   "cell_type": "markdown",
   "metadata": {},
   "source": [
    "### 算数计算\n",
    "\n",
    "SQL 可以进行的算数计算包括加减乘除。\n",
    "\n",
    "示例用法："
   ]
  },
  {
   "cell_type": "code",
   "execution_count": null,
   "metadata": {
    "vscode": {
     "languageId": "plaintext"
    }
   },
   "outputs": [],
   "source": [
    "SELECT A * B AS atimesb\n",
    "FROM table"
   ]
  }
 ],
 "metadata": {
  "language_info": {
   "name": "python"
  }
 },
 "nbformat": 4,
 "nbformat_minor": 2
}
