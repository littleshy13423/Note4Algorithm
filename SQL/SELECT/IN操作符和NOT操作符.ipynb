{
 "cells": [
  {
   "cell_type": "markdown",
   "metadata": {},
   "source": [
    "## IN 操作符\n",
    "\n",
    "IN 取一组由逗号隔开、包括在圆括号中的合法值。\n",
    "\n",
    "示例："
   ]
  },
  {
   "cell_type": "code",
   "execution_count": null,
   "metadata": {
    "vscode": {
     "languageId": "plaintext"
    }
   },
   "outputs": [],
   "source": [
    "WHERE id IN ('name1', 'name2')"
   ]
  },
  {
   "cell_type": "markdown",
   "metadata": {},
   "source": [
    "#### 优点：\n",
    "\n",
    "语法更清楚直观，切一般比 OR 操作符执行得更快。"
   ]
  },
  {
   "cell_type": "markdown",
   "metadata": {},
   "source": [
    "## NOT 操作符\n",
    "\n",
    "NOT 是用来否定 WHERE 子句中位于 NOT 后面的条件的关键字"
   ]
  }
 ],
 "metadata": {
  "language_info": {
   "name": "python"
  }
 },
 "nbformat": 4,
 "nbformat_minor": 2
}
