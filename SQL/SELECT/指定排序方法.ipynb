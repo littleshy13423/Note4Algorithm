{
 "cells": [
  {
   "cell_type": "markdown",
   "metadata": {},
   "source": [
    "## 数据排序\n",
    "\n",
    "关系数据库设计理论认为，如果不明确规定排序顺序，不应该假定检索出的数据的顺序有任何意义。\n",
    "\n",
    "### ORDER BY\n",
    "\n",
    "SELECT 语句检索出的数据，可以使用 ORDER BY 子句，取一个或多个列名字，据此对输出进行排序。\n",
    "取多个列排序时以逗号隔开，排序的顺序按从前向后依次使用，只有当前一个列排序准则出现相同结果时才会使用第二列作为排序准则。（除了使用列名，还支持使用列位置进行排序）\n",
    "\n",
    "注意：指定 ORDER BY 子句时，需保证它时 SELECT 语句中的最后一条子语句\n",
    "\n",
    "### DESC\n",
    "\n",
    "ORDER BY 默认使用升序（ASC，从A到Z）\n",
    "\n",
    "注意：如果想在多个列上进行降序排序，必须对每个列指定 DESC 关键字。"
   ]
  },
  {
   "cell_type": "code",
   "execution_count": null,
   "metadata": {
    "vscode": {
     "languageId": "plaintext"
    }
   },
   "outputs": [],
   "source": [
    "SELECT row_name1, row_name2\n",
    "FROM tableX\n",
    "ORDER BY row_name_x DESC;"
   ]
  },
  {
   "cell_type": "markdown",
   "metadata": {},
   "source": [
    "### 关于大小写\n",
    "\n",
    "在字典排序顺序中 A 与 a 被视为相同，这是大多数 DBMS 对做法，但是数据库管理员可以在需要时做出修改。"
   ]
  }
 ],
 "metadata": {
  "language_info": {
   "name": "python"
  }
 },
 "nbformat": 4,
 "nbformat_minor": 2
}
