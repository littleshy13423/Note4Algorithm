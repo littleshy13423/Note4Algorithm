{
 "cells": [
  {
   "cell_type": "markdown",
   "metadata": {},
   "source": [
    "## WHERE\n",
    "\n",
    "在 SELECT 语句中，WHERE 子句在 FROM 子句之后给出\n",
    "\n",
    "### WHERE 子句操作符\n",
    "\n",
    "等于：=\n",
    "不等于：<> 或者 !=\n",
    "小于：<\n",
    "小于等于：<= 或者使用 !>\n",
    "大于同理可得\n",
    "指定两值之间：BETWEEN\n",
    "为空：IS NULL\n",
    "\n",
    "注意：单引号用来限定字符串。如将字符串与字符串类型的列进行比较，就需要限定引号，与数值列比较多时候则不用。\n",
    "\n",
    "### BETWEEN\n",
    "\n",
    "使用方法：\n"
   ]
  },
  {
   "cell_type": "code",
   "execution_count": null,
   "metadata": {
    "vscode": {
     "languageId": "plaintext"
    }
   },
   "outputs": [],
   "source": [
    "SELECT name\n",
    "FROM tableX\n",
    "WHERE price BETWEEN num1 AND num2；"
   ]
  },
  {
   "cell_type": "markdown",
   "metadata": {},
   "source": [
    "注意：BETWEEN 范围包括开始值（num1）和结束值（num2）。\n",
    "\n",
    "### IS NULL\n",
    "\n",
    "创建表时，设计人员可以指定某一列的值是否可以为空。检查空值时不能直接使用等于，而要使用 IS NULL 子句。\n",
    "\n",
    "### 组合 WHERE 子句\n",
    "\n",
    "在 WHERE 子句中，可以使用 AND 和 OR 连接多句判断条件。\n",
    "\n",
    "注意：SQL 会优先处理 AND 操作符，再处理 OR 操作符。可以使用加小括号()的方式来改变操作顺序并消除歧义。\n",
    "\n",
    "### "
   ]
  }
 ],
 "metadata": {
  "language_info": {
   "name": "python"
  }
 },
 "nbformat": 4,
 "nbformat_minor": 2
}
