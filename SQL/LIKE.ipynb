{
 "cells": [
  {
   "cell_type": "markdown",
   "metadata": {},
   "source": [
    "## LIKE 操作符\n",
    "\n",
    "LIKE 是 SQL 语言中用于在 WHERE 子句中进行模式匹配的一个关键字。它通常与 % 和 _ 这两个通配符 (wildcard) 一起使用。\n",
    "\n",
    "% 通配符：代表任意数量的字符（包括零个字符）。例如，LIKE 'a%' 会匹配所有以 'a' 开头的字符串。\n",
    "\n",
    "_ 通配符：代表任意单个字符。例如，LIKE 'a_' 会匹配所有以 'a' 开头且长度为两个字符的字符串。\n",
    "\n",
    "以下是一些使用 LIKE 的例子：\n",
    "\n",
    "查找特定模式的数据：如果你想找到所有姓氏以 'Smith' 开头的人，你可以使用 WHERE lastname LIKE 'Smith%'。\n",
    "\n",
    "查找包含特定模式的数据：如果你想找到名字中包含 'an' 的人，你可以使用 WHERE firstname LIKE '%an%'。\n",
    "\n",
    "查找特定长度的数据：如果你想找到由三个字母组成的名字，你可以使用 WHERE firstname LIKE '___'。\n",
    "\n",
    "#### 注意：\n",
    "\n",
    "通配符搜索一般比前面前面讨论的其他搜索要耗时更长。如果其他操作符能达到相同目的，应尽量使用其他操作符。\n",
    "也尽量不要把通配符用在搜索模式的开始处，把通配符放在开始处搜索起来较慢。"
   ]
  }
 ],
 "metadata": {
  "language_info": {
   "name": "python"
  }
 },
 "nbformat": 4,
 "nbformat_minor": 2
}
