{
 "cells": [
  {
   "cell_type": "markdown",
   "metadata": {},
   "source": [
    "## RAII（Resource Acquisition Is Initialization）\n",
    "\n",
    "RALL是一种在C++中广泛使用的资源管理技术。其核心思想是利用对象的生命周期来管理资源（如内存、文件句柄、网络连接等），确保资源的正确获取和释放。\n",
    "\n",
    "### 实现方式\n",
    "\n",
    "RAII通常通过定义一个类来实现，这个类在其构造函数中获取资源，在析构函数中释放资源。\n",
    "\n",
    "#### 示例 1: 管理动态分配的内存："
   ]
  },
  {
   "cell_type": "code",
   "execution_count": null,
   "metadata": {
    "vscode": {
     "languageId": "cpp"
    }
   },
   "outputs": [],
   "source": [
    "class MemoryBlock {\n",
    "private:\n",
    "    int* data;\n",
    "\n",
    "public:\n",
    "    // 构造函数：分配资源\n",
    "    MemoryBlock(size_t size) {\n",
    "        data = new int[size];\n",
    "    }\n",
    "\n",
    "    // 析构函数：释放资源\n",
    "    ~MemoryBlock() {\n",
    "        delete[] data;\n",
    "    }\n",
    "\n",
    "    // 禁止拷贝和赋值\n",
    "    MemoryBlock(const MemoryBlock&) = delete;\n",
    "    MemoryBlock& operator=(const MemoryBlock&) = delete;\n",
    "};\n",
    "\n",
    "// 使用示例\n",
    "void function() {\n",
    "    MemoryBlock block(1024); // 在此分配资源\n",
    "    // ... 使用block\n",
    "} // 在此自动释放资源\n"
   ]
  },
  {
   "cell_type": "markdown",
   "metadata": {},
   "source": [
    "#### 示例 2: 文件句柄管理"
   ]
  },
  {
   "cell_type": "code",
   "execution_count": null,
   "metadata": {
    "vscode": {
     "languageId": "cpp"
    }
   },
   "outputs": [],
   "source": [
    "class FileHandle {\n",
    "private:\n",
    "    FILE* file;\n",
    "\n",
    "public:\n",
    "    // 构造函数：打开文件\n",
    "    FileHandle(const char* filename, const char* mode) {\n",
    "        file = fopen(filename, mode);\n",
    "    }\n",
    "\n",
    "    // 析构函数：关闭文件\n",
    "    ~FileHandle() {\n",
    "        if (file) {\n",
    "            fclose(file);\n",
    "        }\n",
    "    }\n",
    "\n",
    "    // 禁止拷贝和赋值\n",
    "    FileHandle(const FileHandle&) = delete;\n",
    "    FileHandle& operator=(const FileHandle&) = delete;\n",
    "};\n",
    "\n",
    "// 使用示例\n",
    "void function() {\n",
    "    FileHandle file(\"example.txt\", \"r\"); // 打开文件\n",
    "    // ... 读写文件\n",
    "} // 关闭文件\n"
   ]
  },
  {
   "cell_type": "markdown",
   "metadata": {},
   "source": [
    "在C++中，禁止拷贝和赋值是一种常见的做法，尤其是在涉及资源管理的类（如RAII类）中。这是因为默认的拷贝构造函数和拷贝赋值运算符可能会导致一些问题，比如“浅拷贝”和“双重释放”。\n",
    "\n",
    "浅拷贝问题：默认的拷贝构造函数和赋值运算符执行的是浅拷贝。对于管理动态资源的类（如指针），这意味着两个对象可能会指向同一资源。这在一个对象释放该资源时会导致问题，因为另一个对象还持有到已释放资源的指针。\n",
    "\n",
    "双重释放：如果两个对象指向同一资源，并且它们都试图释放这个资源（如在析构函数中），这将导致双重释放，可能引发程序崩溃或其他未定义行为。"
   ]
  }
 ],
 "metadata": {
  "language_info": {
   "name": "python"
  }
 },
 "nbformat": 4,
 "nbformat_minor": 2
}
